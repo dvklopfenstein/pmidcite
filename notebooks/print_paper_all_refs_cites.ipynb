{
 "cells": [
  {
   "cell_type": "markdown",
   "metadata": {},
   "source": [
    "# Download citation data from NIH-OCC\n",
    "NIH-OCC: Nation Institute of Health's Open Citation Collection https://icite.od.nih.gov/\n",
    "\n",
    "## 1) Load Python interface to NIH-OCC's API"
   ]
  },
  {
   "cell_type": "markdown",
   "metadata": {},
   "source": [
    "## 2) Load the NIH Downloader\n",
    "The pmidcite downloader will use the NIH's API to download citation data.\n",
    "\n",
    "Setting the pmidcite downloader argument `details_cites_refs` to `all` causes all citation data to be downloaded:\n",
    "  * The requested PMID\n",
    "  * The papers that cite it\n",
    "  * Its references"
   ]
  },
  {
   "cell_type": "code",
   "execution_count": 1,
   "metadata": {},
   "outputs": [],
   "source": [
    "from pmidcite.icite.downloader import get_downloader\n",
    "\n",
    "dnldr = get_downloader(details_cites_refs=\"all\")"
   ]
  },
  {
   "cell_type": "markdown",
   "metadata": {},
   "source": [
    "## 3) Download NIH-OCC data for one PMID\n",
    "\n",
    "The first paper, `TOP`, is the requested paper. It is followed by a list of citations (`CIT`), then references (`REF`)."
   ]
  },
  {
   "cell_type": "code",
   "execution_count": 2,
   "metadata": {},
   "outputs": [
    {
     "name": "stdout",
     "output_type": "stream",
     "text": [
      "TOP 22882545 .. .A...  64 2 2013    37  0  24 au[03](P J N de Bruyn) Killer whale ecotypes: is there a global model?\n",
      "37 of 37 citations downloaded:\n",
      "CIT 37839906 .. .A...  -1 i 2024     0  0  53 au[07](Eamonn I F Wooster) Animal cognition and culture mediate predator-prey interactions.\n",
      "CIT 37591692 R. .A...  -1 i 2024     0  0  46 au[04](R F Bennion) Craniodental ecomorphology of the large Jurassic ichthyosaurian Temnodontosaurus.\n",
      "CIT 38179079 R. .A...  -1 i 2024     0  0  12 au[06](Fannie W Shabangu) Killer whale acoustic patterns respond to prey abundance and environmental variability around the Prince Edward Islands, Southern Ocean.\n",
      "CIT 35815600 R. .A...  -1 i 2023     3  0  34 au[06](James O Farlow) 'Dragons' on the landscape: Modeling the abundance of large carnivorous dinosaurs of the Upper Jurassic Morrison Formation (USA) and the Upper Cretaceous Dinosaur Park Formation (Canada).\n",
      "CIT 37055915 R. .A...  -1 i 2023     3  0  25 au[16](Anaïs Remili) Quantitative fatty acid signature analysis reveals a high level of dietary specialization in killer whales across the North Atlantic.\n",
      "CIT 37284666 R. HA...  -1 i 2023     1  0  22 au[04](Rowan K Jordaan) The effect of prey abundance and fisheries on the survival, reproduction, and social structure of killer whales (<i>Orcinus orca</i>) at subantarctic Marion Island.\n",
      "CIT 36917944 .. HA...  -1 i 2023     0  0  11 au[01](Janet Mann) Animal behavior: Killer whale mamas' boys.\n",
      "CIT 37339590 R. .A...  -1 i 2023     0  0   7 au[02](Michael N Weiss) Killer whales.\n",
      "CIT 25883362 .. .A...  88 3 2015    76  0  85 au[02](Neil P Kelley) Vertebrate evolution. Evolutionary innovation and ecology in marine tetrapods from the Triassic to the Anthropocene.\n",
      "CIT 35233242 RP .A...  47 2 2022     3  0  78 au[04](Astrid V Stronen) The relevance of genetic structure in ecotype designation and conservation management.\n",
      "CIT 35472428 .P .A...  26 2 2022     1  0   7 au[03](Annalisa Berta) Evolution: Killer whale bites and appetites.\n",
      "CIT 34750442 R. HA...  51 2 2021     6  0  15 au[08](Qiling Liu) An injured pachypleurosaur (Diapsida: Sauropterygia) from the Middle Triassic Luoping Biota indicating predation pressure in the Mesozoic.\n",
      "CIT 31631360 .. HA...  61 2 2019    16  0  55 au[01](Jenny A Allen) Community through Culture: From Insects to Whales: How Social Learning and Culture Manifest across Diverse Animal Communities.\n",
      "CIT 31131963 R. .AM..  59 2 2019    22  0  72 au[35](Andrew D Foote) Killer whale genomes reveal a complex history of recurrent admixture and vicariance.\n",
      "CIT 30992478 R. .A...  38 2 2019     8  0  32 au[09](Salvador J Jorgensen) Killer whales redistribute white shark foraging pressure on seals.\n",
      "CIT 31120038 R. .A...  17 2 2019     3  0  14 au[08](Maíra Laeta) Osteochondromatosis (multiple cartilaginous exostoses) in an immature killer whale Orcinus orca.\n",
      "CIT 29876075 R. .A...  48 2 2018    14  0  31 au[02](Mauricio Cantor) Simple foraging rules in competitive environments can generate socially structured populations.\n",
      "CIT 29692289 R. .A...  40 2 2018     8  0  14 au[06](A Reckendorf) First record of Halocercus sp. (Pseudaliidae) lungworm infections in two stranded neonatal orcas (Orcinus orca).\n",
      "CIT 30051821 R. .A...  35 2 2018    12  0  13 au[08](Ana S L Rodrigues) Forgotten Mediterranean calving grounds of grey and North Atlantic right whales: evidence from Roman archaeological records.\n",
      "CIT 29895580 R. .A...  30 2 2018     6  0  23 au[07](Matthew T Bowers) Selective reactions to different killer whale call categories in two delphinid species.\n",
      "CIT 28371192 R. .A...  51 2 2017    19  0 121 au[03](Katherine L Moon) Reconsidering connectivity in the sub-Antarctic.\n",
      "CIT 28666015 R. .A...  36 2 2017    11  0   8 au[04](Eve Jourdain) First longitudinal study of seal-feeding killer whales (Orcinus orca) in Norwegian coastal waters.\n",
      "CIT 27039511 R. .A...  56 2 2016    15  0  25 au[07](Saana Isojunno) Sperm whales reduce foraging effort during exposure to 1-2 kHz sonar and killer whale sounds.\n",
      "CIT 27923044 R. .A...  35 2 2016     9  0   6 au[06](Rebecca Wellard) Killer Whale (Orcinus orca) Predation on Beaked Whales (Mesoplodon spp.) in the Bremer Sub-Basin, Western Australia.\n",
      "CIT 27336480 R. .AM..  34 2 2016    12  0  75 au[05](Stefano Montelli) Back to Water: Signature of Adaptive Evolution in Cetacean Mitochondrial tRNAs.\n",
      "CIT 26937049 R. .A...  62 2 2015    22  0  35 au[04](Todd R Robeck) Comparisons of life-history parameters between free-ranging and captive killer whale (<i>Orcinus orca</i>) populations for application toward species management.\n",
      "CIT 25052415 R. .AM..  59 2 2015    29  0  37 au[09](A E Moura) Phylogenomics of the killer whale indicates ecotype divergence in sympatry.\n",
      "CIT 25738698 R. .A...  31 2 2015    10  0   5 au[06](Marta Söffker) The impact of predation by marine mammals on patagonian toothfish longline fisheries.\n",
      "CIT 24383934 R. .AM..  60 2 2014    31  0  54 au[17](Marie Louis) Habitat-driven population structure of bottlenose dolphins, Tursiops truncatus, in the North-East Atlantic.\n",
      "CIT 25297864 R. .A...  53 2 2014    25  0  39 au[10](Marie Louis) Ecological opportunities and specializations shaped genetic divergence in a highly mobile marine top predator.\n",
      "CIT 25244680 R. .A...  51 2 2014    27  0  59 au[10](Andre E Moura) Population genomics of the killer whale indicates ecotype evolution in sympatry involving both selection and drift.\n",
      "CIT 33798257 R. .A...  13 1 2021     1  0  22 au[03](Cory J D Matthews) Amino acid δ15N differences consistent with killer whale ecotypes in the Arctic and Northwest Atlantic.\n",
      "CIT 31230140 R. .A...  14 1 2019     3  0  36 au[12](Charlotte Curé) Evidence for discrimination between feeding sounds of familiar fish and unfamiliar mammal-eating killer whale ecotypes by long-finned pilot whales.\n",
      "CIT 31215081 R. .A...   8 1 2019     2  0  17 au[04](Paula Sánchez-Hernández) Social interaction analysis in captive orcas (Orcinus orca).\n",
      "CIT 29272275 R. .A...  11 1 2017     3  0   8 au[04](Elizabeth Seely) Soundwatch: Eighteen years of monitoring whale watch vessel activities in the Salish Sea.\n",
      "CIT 27804965 .. .A...   6 1 2016     3  0  15 au[02](A R Hoelzel) Killer whales differentiating in geographic sympatry facilitated by divergent behavioural traditions.\n",
      "CIT 27147024 .. .A...   0 0 2016     0  0   2 au[01](P J Nico de Bruyn) Conservation: Debate over whale longevity is futile.\n",
      "24 of 24 References downloaded:\n",
      "REF 17395829 R. .A...  98 4 2007   332  0   8 au[05](Ransom A Myers) Cascading effects of the loss of apex predatory sharks from a coastal ocean.\n",
      "REF 20413674 R. .AM..  94 3 2010   181  0  53 au[16](Phillip A Morin) Complete mitochondrial genome phylogeographic analysis of killer whales (Orcinus orca) indicates multiple species.\n",
      "REF 13679915 R. .A...  94 3 2003   214  0   2 au[03](A R E Sinclair) Patterns of predation in a diverse predator-prey system.\n",
      "REF 11729317 R. .A...  97 3 2001   385  0   6 au[11](J Terborgh) Ecological meltdown in predator-free forest fragments.\n",
      "REF 22031725 R. .A...  55 2 2012    29  0   4 au[02](J W Durban) Antarctic killer whales make rapid, round-trip movements to subtropical waters: evidence for physiological maintenance migrations?\n",
      "REF 22073275 R. .A...  81 2 2011    73  0  60 au[05](Sebastián Duchêne) Mitogenome phylogenetics: the impact of using single regions and partitioning schemes on topology, substitution rate and divergence time estimation.\n",
      "REF 20810427 R. .A...  80 2 2011    76  0  19 au[08](Andrew D Foote) Positive selection on the killer whale mitogenome.\n",
      "REF 21757487 R. .AM..  58 2 2011    34  0  41 au[11](Michael J Ford) Inferred Paternity and Male Reproductive Success in a Killer Whale (Orcinus orca) Population.\n",
      "REF 21241391 R. .AM..  47 2 2011    27  0  46 au[22](Andrew D Foote) Genetic differentiation among North Atlantic killer whale populations.\n",
      "REF 21949818 R. .A...  30 2 2011    19  0  42 au[06](Andrew D Foote) Out of the Pacific and back again: insights into the matrilineal history of Pacific killer whale ecotypes.\n",
      "REF 19755531 R. .A...  78 2 2010    65  0   2 au[04](John K B Ford) Linking killer whale survival and prey abundance: food limitation in the oceans' apex predator?\n",
      "REF 19912451 R. .A...  59 2 2010    40  0  27 au[03](M Pilot) Social cohesion among kin, gene flow without dispersal and the evolution of population genetic structure in the killer whale (Orcinus orca).\n",
      "REF 20050301 R. .A...  71 2 2009    58  0  25 au[05](Andrew D Foote) Ecological, morphological and genetic divergence of sympatric North Atlantic killer whale populations.\n",
      "REF 19451116 R. .A...  32 2 2009    21  0  17 au[04](J A Estes) Causes and consequences of marine mammal population declines in southwest Alaska: a food-web perspective.\n",
      "REF 18345862 R. .A...  34 2 2008    16  0  14 au[02](Andrew D Foote) Variation in call pitch among killer whale ecotypes.\n",
      "REF 18524738 R. .A...  23 2 2008    14  0   3 au[03](Richard G LeDuc) Mitochondrial sequence divergence among Antarctic killer whale ecotypes is consistent with multiple species.\n",
      "REF 18481536 R. .A...  22 2 2008    17  0   7 au[02](Norman Owen-Smith) Shifting prey selection generates contrasting herbivore dynamics within a large-mammal predator-prey web.\n",
      "REF 17400573 R. .AM..  72 2 2007    74  0  27 au[06](A Rus Hoelzel) Evolution of population structure in a highly social top predator, the killer whale.\n",
      "REF 15791540 R. .A...  46 2 2005    36  0  25 au[03](Roger S Thorpe) Common garden and natural selection experiments support ecotypic differentiation in the Dominican anole (Anolis oculatus).\n",
      "REF 14526101 R. .A...  78 2 2003   110  0   8 au[08](A M Springer) Sequential megafaunal collapse in the North Pacific Ocean: an ongoing legacy of industrial whaling?\n",
      "REF 12137576 R. .AM..  57 2 2002    51  0  19 au[06](A Rus Hoelzel) Low worldwide genetic diversity in the killer whale (Orcinus orca): implications for demographic history.\n",
      "REF  9542159 R. .AM..  73 2 1998    71  0   7 au[03](A R Hoelzel) Low genetic variation among killer whales (Orcinus orca) in the eastern north Pacific and genetic differentiation between foraging specialists.\n",
      "REF 28313404 R. HA...  31 2 1992    19  0   2 au[03](Robin W Baird) Possible indirect interactions between transient and resident killer whales: implications for the evolution of foraging specializations in the genus Orcinus.\n",
      "REF 19919590 .. .A...   7 1 2009     5  0   5 au[02](Matthew A Cronin) Problems with the claim of ecotype and taxon status of the wolf in the Great Lakes region.\n"
     ]
    }
   ],
   "source": [
    "pmid = 22882545\n",
    "paper = dnldr.get_paper(pmid)\n",
    "paper.prt_summary()"
   ]
  },
  {
   "cell_type": "markdown",
   "metadata": {},
   "source": [
    "Copyright (C) 2019-present, DV Klopfenstein, PhD. All rights reserved."
   ]
  }
 ],
 "metadata": {
  "kernelspec": {
   "display_name": "Python 3 (ipykernel)",
   "language": "python",
   "name": "python3"
  },
  "language_info": {
   "codemirror_mode": {
    "name": "ipython",
    "version": 3
   },
   "file_extension": ".py",
   "mimetype": "text/x-python",
   "name": "python",
   "nbconvert_exporter": "python",
   "pygments_lexer": "ipython3",
   "version": "3.10.12"
  }
 },
 "nbformat": 4,
 "nbformat_minor": 4
}
