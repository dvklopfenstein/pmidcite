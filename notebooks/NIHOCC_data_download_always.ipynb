{
 "cells": [
  {
   "cell_type": "markdown",
   "metadata": {},
   "source": [
    "# Download citation data from NIH-OCC\n",
    "Nation Institute of Health's Open Citation Collection (NIH-OCC)\n",
    "\n",
    "## 1) Load Python interface to NIH-OCC's API"
   ]
  },
  {
   "cell_type": "code",
   "execution_count": 1,
   "metadata": {},
   "outputs": [
    {
     "name": "stdout",
     "output_type": "stream",
     "text": [
      "0.0.48\n"
     ]
    }
   ],
   "source": [
    "import pmidcite\n",
    "print(pmidcite.__version__)"
   ]
  },
  {
   "cell_type": "code",
   "execution_count": 2,
   "metadata": {},
   "outputs": [],
   "source": [
    "from pmidcite.icite.downloader import get_downloader\n",
    "\n",
    "dnldr = get_downloader()"
   ]
  },
  {
   "cell_type": "markdown",
   "metadata": {},
   "source": [
    "## 2) Download NIH-OCC data for one PMID\n",
    "\n",
    "Print the column headers first. Then print the citation data."
   ]
  },
  {
   "cell_type": "code",
   "execution_count": 3,
   "metadata": {},
   "outputs": [
    {
     "name": "stdout",
     "output_type": "stream",
     "text": [
      "PMID     RP HAMCc   % G YEAR   cit cli ref au[00](authors) title\n",
      "22882545 .. .A...  64 2 2013    37  0  24 au[03](P J N de Bruyn) Killer whale ecotypes: is there a global model?\n"
     ]
    }
   ],
   "source": [
    "nih_entry = dnldr.get_icite(22882545)\n",
    "\n",
    "print(nih_entry.hdr); print(nih_entry)"
   ]
  },
  {
   "cell_type": "markdown",
   "metadata": {},
   "source": [
    "## 3) Print the key to the column headers"
   ]
  },
  {
   "cell_type": "code",
   "execution_count": 4,
   "metadata": {
    "scrolled": true
   },
   "outputs": [
    {
     "name": "stdout",
     "output_type": "stream",
     "text": [
      "PubMedID RP HAMCc % G YEAR x y z au[A](First Author) Title of paper\n",
      "\n",
      "  PubMedID: PubMed ID (PMID)\n",
      "\n",
      "     RP section:\n",
      "     ----------------------------------\n",
      "         R: Is a research article\n",
      "         P: iCite has calculated an initial Relative Citation Ratio (RCR) for new papers\n",
      "\n",
      "     HAMCc section:\n",
      "     ----------------------------------\n",
      "         H: Has MeSH terms in the human category\n",
      "         A: Has MeSH terms in the animal category\n",
      "         M: Has MeSH terms in the molecular/cellular biology category\n",
      "         C: Is a clinical trial, study, or guideline\n",
      "         c: Is cited by a clinical trial, study, or guideline\n",
      "\n",
      "     NIH section, based on Relative Citation Ratio (RCR):\n",
      "     ----------------------------------\n",
      "         %: NIH citation percentile rounded to an integer. -1 means \"not determined\" or TBD\n",
      "         G: NIH citation percentile group: 0=-3SD 1=-2SD 2=+/-1SD 3=+2SD 4=+3SD or i=TBD\n",
      "\n",
      "     YEAR/citations/references section:\n",
      "     ----------------------------------\n",
      "      YEAR: The year the article was published\n",
      "       cit: Total of all unique articles that have cited the paper, including clinical articles\n",
      "       cli: Number of unique clinical articles that have cited the paper\n",
      "       ref: Number of references\n",
      "     au[A]: A is the number of authors\n"
     ]
    }
   ],
   "source": [
    "nih_entry.prt_keys()"
   ]
  },
  {
   "cell_type": "markdown",
   "metadata": {},
   "source": [
    "## 3) Download NIH-OCC data for multiple PMIDs"
   ]
  },
  {
   "cell_type": "code",
   "execution_count": 5,
   "metadata": {},
   "outputs": [
    {
     "name": "stdout",
     "output_type": "stream",
     "text": [
      "31461780 R. .A...   8 1 2020     1  0   0 au[06](Robert L Pitman) Enigmatic megafauna: type D killer whale in the Southern Ocean.\n",
      "22882545 .. .A...  64 2 2013    37  0  24 au[03](P J N de Bruyn) Killer whale ecotypes: is there a global model?\n",
      "20050301 R. .A...  71 2 2009    58  0  25 au[05](Andrew D Foote) Ecological, morphological and genetic divergence of sympatric North Atlantic killer whale populations.\n"
     ]
    }
   ],
   "source": [
    "pmids = [31461780, 22882545, 20050301]\n",
    "nih_entries = dnldr.get_icites(pmids)\n",
    "\n",
    "for entry in nih_entries:\n",
    "    print(entry)"
   ]
  },
  {
   "cell_type": "markdown",
   "metadata": {},
   "source": [
    "## 4) Print all the NIH-OCC data for one PMID"
   ]
  },
  {
   "cell_type": "code",
   "execution_count": 6,
   "metadata": {},
   "outputs": [
    {
     "name": "stdout",
     "output_type": "stream",
     "text": [
      "                       pmid 22882545\n",
      "                       year 2013\n",
      "                      title Killer whale ecotypes: is there a global model?\n",
      "                    authors ['P J N de Bruyn', 'Cheryl A Tosh', 'Aleks Terauds']\n",
      "                    journal Biol Rev Camb Philos Soc\n",
      "        is_research_article False\n",
      "    relative_citation_ratio 1.46\n",
      "             nih_percentile 64.3\n",
      "                      human 0.0\n",
      "                     animal 1.0\n",
      "         molecular_cellular 0.0\n",
      "                        apt 0.05\n",
      "                is_clinical False\n",
      "             citation_count 37\n",
      "         citations_per_year 3.3636363636363638\n",
      "expected_citations_per_year 2.2999145273529242\n",
      "        field_citation_rate 5.224693905781195\n",
      "                provisional False\n",
      "                    x_coord 0.8660254037844386\n",
      "                    y_coord -0.5\n",
      "              cited_by_clin []\n",
      "                   cited_by [31230140, 25297864, 35233242, 37055915, 31215081, 29895580, 31631360, 26937049, 34750442, 31131963, 37839906, 37284666, 30992478, 25244680, 27336480, 30051821, 27147024, 25052415, 35815600, 29692289, 35472428, 31120038, 24383934, 27039511, 25883362, 29876075, 28666015, 29272275, 25738698, 27923044, 36917944, 33798257, 37339590, 37591692, 27804965, 28371192, 38179079]\n",
      "                 references [19912451, 15791540, 11729317, 20413674, 17400573, 13679915, 19919590, 19755531, 22073275, 21241391, 18524738, 12137576, 20810427, 18345862, 28313404, 9542159, 21949818, 17395829, 21757487, 22031725, 19451116, 20050301, 14526101, 18481536]\n",
      "                        doi 10.1111/j.1469-185X.2012.00239.x\n",
      "              last_modified 02/25/2024, 09:38:37\n",
      "                  nih_group 2\n",
      "                   num_auth 3\n",
      "                   num_clin 0\n",
      "                   num_cite 37\n",
      "              num_cites_all 37\n",
      "                   nih_perc 64\n",
      "                   num_refs 24\n"
     ]
    }
   ],
   "source": [
    "for key, val in nih_entry.get_dict().items():\n",
    "    print(f'{key:>27} {val}')"
   ]
  },
  {
   "cell_type": "markdown",
   "metadata": {},
   "source": [
    "Copyright (C) 2019-present, DV Klopfenstein, PhD. All rights reserved."
   ]
  },
  {
   "cell_type": "code",
   "execution_count": null,
   "metadata": {},
   "outputs": [],
   "source": []
  }
 ],
 "metadata": {
  "kernelspec": {
   "display_name": "Python 3 (ipykernel)",
   "language": "python",
   "name": "python3"
  },
  "language_info": {
   "codemirror_mode": {
    "name": "ipython",
    "version": 3
   },
   "file_extension": ".py",
   "mimetype": "text/x-python",
   "name": "python",
   "nbconvert_exporter": "python",
   "pygments_lexer": "ipython3",
   "version": "3.10.12"
  }
 },
 "nbformat": 4,
 "nbformat_minor": 4
}
