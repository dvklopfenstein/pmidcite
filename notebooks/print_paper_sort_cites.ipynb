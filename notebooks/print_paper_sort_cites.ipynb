{
 "cells": [
  {
   "cell_type": "markdown",
   "metadata": {},
   "source": [
    "# Download citation data from NIH-OCC\n",
    "NIH-OCC: Nation Institute of Health's Open Citation Collection https://icite.od.nih.gov/\n",
    "\n",
    "## 1) Load the NIH Downloader\n",
    "Download the details about a paper's citations by setting the `NIHiCiteDownloader` argument `details_cites_refs` to `\"citations\"`."
   ]
  },
  {
   "cell_type": "code",
   "execution_count": 1,
   "metadata": {},
   "outputs": [],
   "source": [
    "from pmidcite.icite.downloader import get_downloader\n",
    "\n",
    "dnldr = get_downloader(details_cites_refs=\"citations\")"
   ]
  },
  {
   "cell_type": "markdown",
   "metadata": {},
   "source": [
    "Values for the `NIHiCiteDownloader` argument `details_cites_refs` include:\n",
    "* `\"citations\"`\n",
    "* `\"references\"`\n",
    "* `\"all\"` (downloads details for both citations and references)"
   ]
  },
  {
   "cell_type": "markdown",
   "metadata": {},
   "source": [
    "## 2) Download NIH-OCC data for one PMID\n",
    "\n",
    "The first paper, `TOP`, is the requested paper. It is followed by a list of citations (`CIT`), then references (`REF`).\n",
    "\n",
    "Citations are stored in two data members, `cited_by` and `cited_by_clin`. In this example, there are no clinical papers which cited the chosen paper. But we show how union can be used to merge the two sets."
   ]
  },
  {
   "cell_type": "code",
   "execution_count": 2,
   "metadata": {},
   "outputs": [],
   "source": [
    "pmid = 22882545\n",
    "pmids = [pmid]\n",
    "pmid2paper = dnldr.get_pmid2paper(pmids)\n",
    "\n",
    "paper = pmid2paper[pmid]\n",
    "\n",
    "# set of NIHiCiteEntry\n",
    "all_cites = paper.cited_by.union(paper.cited_by_clin)"
   ]
  },
  {
   "cell_type": "markdown",
   "metadata": {},
   "source": [
    "## 3) Default sort of NIHiCiteEntry objects is by PMIDs"
   ]
  },
  {
   "cell_type": "code",
   "execution_count": 3,
   "metadata": {},
   "outputs": [
    {
     "name": "stdout",
     "output_type": "stream",
     "text": [
      "24383934 R. .AM..  60 2 2014    31  0  54 au[17](Marie Louis) Habitat-driven population structure of bottlenose dolphins, Tursiops truncatus, in the North-East Atlantic.\n",
      "25052415 R. .AM..  59 2 2015    29  0  37 au[09](A E Moura) Phylogenomics of the killer whale indicates ecotype divergence in sympatry.\n",
      "25244680 R. .A...  51 2 2014    27  0  59 au[10](Andre E Moura) Population genomics of the killer whale indicates ecotype evolution in sympatry involving both selection and drift.\n",
      "25297864 R. .A...  53 2 2014    25  0  39 au[10](Marie Louis) Ecological opportunities and specializations shaped genetic divergence in a highly mobile marine top predator.\n",
      "25738698 R. .A...  31 2 2015    10  0   5 au[06](Marta Söffker) The impact of predation by marine mammals on patagonian toothfish longline fisheries.\n",
      "25883362 .. .A...  88 3 2015    76  0  85 au[02](Neil P Kelley) Vertebrate evolution. Evolutionary innovation and ecology in marine tetrapods from the Triassic to the Anthropocene.\n",
      "26937049 R. .A...  62 2 2015    22  0  35 au[04](Todd R Robeck) Comparisons of life-history parameters between free-ranging and captive killer whale (<i>Orcinus orca</i>) populations for application toward species management.\n",
      "27039511 R. .A...  56 2 2016    15  0  25 au[07](Saana Isojunno) Sperm whales reduce foraging effort during exposure to 1-2 kHz sonar and killer whale sounds.\n",
      "27147024 .. .A...   0 0 2016     0  0   2 au[01](P J Nico de Bruyn) Conservation: Debate over whale longevity is futile.\n",
      "27336480 R. .AM..  34 2 2016    12  0  75 au[05](Stefano Montelli) Back to Water: Signature of Adaptive Evolution in Cetacean Mitochondrial tRNAs.\n",
      "27804965 .. .A...   6 1 2016     3  0  15 au[02](A R Hoelzel) Killer whales differentiating in geographic sympatry facilitated by divergent behavioural traditions.\n",
      "27923044 R. .A...  35 2 2016     9  0   6 au[06](Rebecca Wellard) Killer Whale (Orcinus orca) Predation on Beaked Whales (Mesoplodon spp.) in the Bremer Sub-Basin, Western Australia.\n",
      "28371192 R. .A...  51 2 2017    19  0 121 au[03](Katherine L Moon) Reconsidering connectivity in the sub-Antarctic.\n",
      "28666015 R. .A...  36 2 2017    11  0   8 au[04](Eve Jourdain) First longitudinal study of seal-feeding killer whales (Orcinus orca) in Norwegian coastal waters.\n",
      "29272275 R. .A...  11 1 2017     3  0   8 au[04](Elizabeth Seely) Soundwatch: Eighteen years of monitoring whale watch vessel activities in the Salish Sea.\n",
      "29692289 R. .A...  40 2 2018     8  0  14 au[06](A Reckendorf) First record of Halocercus sp. (Pseudaliidae) lungworm infections in two stranded neonatal orcas (Orcinus orca).\n",
      "29876075 R. .A...  48 2 2018    14  0  31 au[02](Mauricio Cantor) Simple foraging rules in competitive environments can generate socially structured populations.\n",
      "29895580 R. .A...  30 2 2018     6  0  23 au[07](Matthew T Bowers) Selective reactions to different killer whale call categories in two delphinid species.\n",
      "30051821 R. .A...  35 2 2018    12  0  13 au[08](Ana S L Rodrigues) Forgotten Mediterranean calving grounds of grey and North Atlantic right whales: evidence from Roman archaeological records.\n",
      "30992478 R. .A...  38 2 2019     8  0  32 au[09](Salvador J Jorgensen) Killer whales redistribute white shark foraging pressure on seals.\n",
      "31120038 R. .A...  17 2 2019     3  0  14 au[08](Maíra Laeta) Osteochondromatosis (multiple cartilaginous exostoses) in an immature killer whale Orcinus orca.\n",
      "31131963 R. .AM..  59 2 2019    22  0  72 au[35](Andrew D Foote) Killer whale genomes reveal a complex history of recurrent admixture and vicariance.\n",
      "31215081 R. .A...   8 1 2019     2  0  17 au[04](Paula Sánchez-Hernández) Social interaction analysis in captive orcas (Orcinus orca).\n",
      "31230140 R. .A...  14 1 2019     3  0  36 au[12](Charlotte Curé) Evidence for discrimination between feeding sounds of familiar fish and unfamiliar mammal-eating killer whale ecotypes by long-finned pilot whales.\n",
      "31631360 .. HA...  61 2 2019    16  0  55 au[01](Jenny A Allen) Community through Culture: From Insects to Whales: How Social Learning and Culture Manifest across Diverse Animal Communities.\n",
      "33798257 R. .A...  13 1 2021     1  0  22 au[03](Cory J D Matthews) Amino acid δ15N differences consistent with killer whale ecotypes in the Arctic and Northwest Atlantic.\n",
      "34750442 R. HA...  51 2 2021     6  0  15 au[08](Qiling Liu) An injured pachypleurosaur (Diapsida: Sauropterygia) from the Middle Triassic Luoping Biota indicating predation pressure in the Mesozoic.\n",
      "35233242 RP .A...  47 2 2022     3  0  78 au[04](Astrid V Stronen) The relevance of genetic structure in ecotype designation and conservation management.\n",
      "35472428 .P .A...  26 2 2022     1  0   7 au[03](Annalisa Berta) Evolution: Killer whale bites and appetites.\n",
      "35815600 R. .A...  -1 i 2023     3  0  34 au[06](James O Farlow) 'Dragons' on the landscape: Modeling the abundance of large carnivorous dinosaurs of the Upper Jurassic Morrison Formation (USA) and the Upper Cretaceous Dinosaur Park Formation (Canada).\n",
      "36917944 .. HA...  -1 i 2023     0  0  11 au[01](Janet Mann) Animal behavior: Killer whale mamas' boys.\n",
      "37055915 R. .A...  -1 i 2023     3  0  25 au[16](Anaïs Remili) Quantitative fatty acid signature analysis reveals a high level of dietary specialization in killer whales across the North Atlantic.\n",
      "37284666 R. HA...  -1 i 2023     1  0  22 au[04](Rowan K Jordaan) The effect of prey abundance and fisheries on the survival, reproduction, and social structure of killer whales (<i>Orcinus orca</i>) at subantarctic Marion Island.\n",
      "37339590 R. .A...  -1 i 2023     0  0   7 au[02](Michael N Weiss) Killer whales.\n",
      "37591692 R. .A...  -1 i 2024     0  0  46 au[04](R F Bennion) Craniodental ecomorphology of the large Jurassic ichthyosaurian Temnodontosaurus.\n",
      "37839906 .. .A...  -1 i 2024     0  0  53 au[07](Eamonn I F Wooster) Animal cognition and culture mediate predator-prey interactions.\n",
      "38179079 R. .A...  -1 i 2024     0  0  12 au[06](Fannie W Shabangu) Killer whale acoustic patterns respond to prey abundance and environmental variability around the Prince Edward Islands, Southern Ocean.\n"
     ]
    }
   ],
   "source": [
    "for nih_entry in sorted(all_cites):\n",
    "    print(nih_entry)"
   ]
  },
  {
   "cell_type": "markdown",
   "metadata": {},
   "source": [
    "## 4) Sort by NIH percentile\n",
    "NIH entries that are too new to have been given a NIH percentile are set to 999 in *pmidcite*.    \n",
    "\n",
    "It is important to highlight new papers.    \n",
    "\n",
    "The 999 value makes the newest papers appear next to the papers having the highest NIH percentiles so the new papers are highlighted."
   ]
  },
  {
   "cell_type": "code",
   "execution_count": 4,
   "metadata": {},
   "outputs": [
    {
     "name": "stdout",
     "output_type": "stream",
     "text": [
      "35815600 R. .A...  -1 i 2023     3  0  34 au[06](James O Farlow) 'Dragons' on the landscape: Modeling the abundance of large carnivorous dinosaurs of the Upper Jurassic Morrison Formation (USA) and the Upper Cretaceous Dinosaur Park Formation (Canada).\n",
      "37055915 R. .A...  -1 i 2023     3  0  25 au[16](Anaïs Remili) Quantitative fatty acid signature analysis reveals a high level of dietary specialization in killer whales across the North Atlantic.\n",
      "37284666 R. HA...  -1 i 2023     1  0  22 au[04](Rowan K Jordaan) The effect of prey abundance and fisheries on the survival, reproduction, and social structure of killer whales (<i>Orcinus orca</i>) at subantarctic Marion Island.\n",
      "37839906 .. .A...  -1 i 2024     0  0  53 au[07](Eamonn I F Wooster) Animal cognition and culture mediate predator-prey interactions.\n",
      "38179079 R. .A...  -1 i 2024     0  0  12 au[06](Fannie W Shabangu) Killer whale acoustic patterns respond to prey abundance and environmental variability around the Prince Edward Islands, Southern Ocean.\n",
      "37591692 R. .A...  -1 i 2024     0  0  46 au[04](R F Bennion) Craniodental ecomorphology of the large Jurassic ichthyosaurian Temnodontosaurus.\n",
      "36917944 .. HA...  -1 i 2023     0  0  11 au[01](Janet Mann) Animal behavior: Killer whale mamas' boys.\n",
      "37339590 R. .A...  -1 i 2023     0  0   7 au[02](Michael N Weiss) Killer whales.\n",
      "25883362 .. .A...  88 3 2015    76  0  85 au[02](Neil P Kelley) Vertebrate evolution. Evolutionary innovation and ecology in marine tetrapods from the Triassic to the Anthropocene.\n",
      "26937049 R. .A...  62 2 2015    22  0  35 au[04](Todd R Robeck) Comparisons of life-history parameters between free-ranging and captive killer whale (<i>Orcinus orca</i>) populations for application toward species management.\n",
      "31631360 .. HA...  61 2 2019    16  0  55 au[01](Jenny A Allen) Community through Culture: From Insects to Whales: How Social Learning and Culture Manifest across Diverse Animal Communities.\n",
      "24383934 R. .AM..  60 2 2014    31  0  54 au[17](Marie Louis) Habitat-driven population structure of bottlenose dolphins, Tursiops truncatus, in the North-East Atlantic.\n",
      "25052415 R. .AM..  59 2 2015    29  0  37 au[09](A E Moura) Phylogenomics of the killer whale indicates ecotype divergence in sympatry.\n",
      "31131963 R. .AM..  59 2 2019    22  0  72 au[35](Andrew D Foote) Killer whale genomes reveal a complex history of recurrent admixture and vicariance.\n",
      "27039511 R. .A...  56 2 2016    15  0  25 au[07](Saana Isojunno) Sperm whales reduce foraging effort during exposure to 1-2 kHz sonar and killer whale sounds.\n",
      "25297864 R. .A...  53 2 2014    25  0  39 au[10](Marie Louis) Ecological opportunities and specializations shaped genetic divergence in a highly mobile marine top predator.\n",
      "25244680 R. .A...  51 2 2014    27  0  59 au[10](Andre E Moura) Population genomics of the killer whale indicates ecotype evolution in sympatry involving both selection and drift.\n",
      "34750442 R. HA...  51 2 2021     6  0  15 au[08](Qiling Liu) An injured pachypleurosaur (Diapsida: Sauropterygia) from the Middle Triassic Luoping Biota indicating predation pressure in the Mesozoic.\n",
      "28371192 R. .A...  51 2 2017    19  0 121 au[03](Katherine L Moon) Reconsidering connectivity in the sub-Antarctic.\n",
      "29876075 R. .A...  48 2 2018    14  0  31 au[02](Mauricio Cantor) Simple foraging rules in competitive environments can generate socially structured populations.\n",
      "35233242 RP .A...  47 2 2022     3  0  78 au[04](Astrid V Stronen) The relevance of genetic structure in ecotype designation and conservation management.\n",
      "29692289 R. .A...  40 2 2018     8  0  14 au[06](A Reckendorf) First record of Halocercus sp. (Pseudaliidae) lungworm infections in two stranded neonatal orcas (Orcinus orca).\n",
      "30992478 R. .A...  38 2 2019     8  0  32 au[09](Salvador J Jorgensen) Killer whales redistribute white shark foraging pressure on seals.\n",
      "28666015 R. .A...  36 2 2017    11  0   8 au[04](Eve Jourdain) First longitudinal study of seal-feeding killer whales (Orcinus orca) in Norwegian coastal waters.\n",
      "27923044 R. .A...  35 2 2016     9  0   6 au[06](Rebecca Wellard) Killer Whale (Orcinus orca) Predation on Beaked Whales (Mesoplodon spp.) in the Bremer Sub-Basin, Western Australia.\n",
      "30051821 R. .A...  35 2 2018    12  0  13 au[08](Ana S L Rodrigues) Forgotten Mediterranean calving grounds of grey and North Atlantic right whales: evidence from Roman archaeological records.\n",
      "27336480 R. .AM..  34 2 2016    12  0  75 au[05](Stefano Montelli) Back to Water: Signature of Adaptive Evolution in Cetacean Mitochondrial tRNAs.\n",
      "25738698 R. .A...  31 2 2015    10  0   5 au[06](Marta Söffker) The impact of predation by marine mammals on patagonian toothfish longline fisheries.\n",
      "29895580 R. .A...  30 2 2018     6  0  23 au[07](Matthew T Bowers) Selective reactions to different killer whale call categories in two delphinid species.\n",
      "35472428 .P .A...  26 2 2022     1  0   7 au[03](Annalisa Berta) Evolution: Killer whale bites and appetites.\n",
      "31120038 R. .A...  17 2 2019     3  0  14 au[08](Maíra Laeta) Osteochondromatosis (multiple cartilaginous exostoses) in an immature killer whale Orcinus orca.\n",
      "31230140 R. .A...  14 1 2019     3  0  36 au[12](Charlotte Curé) Evidence for discrimination between feeding sounds of familiar fish and unfamiliar mammal-eating killer whale ecotypes by long-finned pilot whales.\n",
      "33798257 R. .A...  13 1 2021     1  0  22 au[03](Cory J D Matthews) Amino acid δ15N differences consistent with killer whale ecotypes in the Arctic and Northwest Atlantic.\n",
      "29272275 R. .A...  11 1 2017     3  0   8 au[04](Elizabeth Seely) Soundwatch: Eighteen years of monitoring whale watch vessel activities in the Salish Sea.\n",
      "31215081 R. .A...   8 1 2019     2  0  17 au[04](Paula Sánchez-Hernández) Social interaction analysis in captive orcas (Orcinus orca).\n",
      "27804965 .. .A...   6 1 2016     3  0  15 au[02](A R Hoelzel) Killer whales differentiating in geographic sympatry facilitated by divergent behavioural traditions.\n",
      "27147024 .. .A...   0 0 2016     0  0   2 au[01](P J Nico de Bruyn) Conservation: Debate over whale longevity is futile.\n"
     ]
    }
   ],
   "source": [
    "for nih_entry in sorted(all_cites, key=lambda o: o.get_dict()['nih_perc'], reverse=True):\n",
    "    print(nih_entry)"
   ]
  },
  {
   "cell_type": "markdown",
   "metadata": {},
   "source": [
    "## 5) Sort by NIH group, then by year\n",
    "This places the newest papers (NIH group `i`) first, followed by papers that perform well (NIH groups `2` and above). The lowest performing papers (NIH groups `0` and `1`) are last."
   ]
  },
  {
   "cell_type": "code",
   "execution_count": 5,
   "metadata": {},
   "outputs": [
    {
     "name": "stdout",
     "output_type": "stream",
     "text": [
      "37839906 .. .A...  -1 i 2024     0  0  53 au[07](Eamonn I F Wooster) Animal cognition and culture mediate predator-prey interactions.\n",
      "38179079 R. .A...  -1 i 2024     0  0  12 au[06](Fannie W Shabangu) Killer whale acoustic patterns respond to prey abundance and environmental variability around the Prince Edward Islands, Southern Ocean.\n",
      "37591692 R. .A...  -1 i 2024     0  0  46 au[04](R F Bennion) Craniodental ecomorphology of the large Jurassic ichthyosaurian Temnodontosaurus.\n",
      "35815600 R. .A...  -1 i 2023     3  0  34 au[06](James O Farlow) 'Dragons' on the landscape: Modeling the abundance of large carnivorous dinosaurs of the Upper Jurassic Morrison Formation (USA) and the Upper Cretaceous Dinosaur Park Formation (Canada).\n",
      "36917944 .. HA...  -1 i 2023     0  0  11 au[01](Janet Mann) Animal behavior: Killer whale mamas' boys.\n",
      "37055915 R. .A...  -1 i 2023     3  0  25 au[16](Anaïs Remili) Quantitative fatty acid signature analysis reveals a high level of dietary specialization in killer whales across the North Atlantic.\n",
      "37284666 R. HA...  -1 i 2023     1  0  22 au[04](Rowan K Jordaan) The effect of prey abundance and fisheries on the survival, reproduction, and social structure of killer whales (<i>Orcinus orca</i>) at subantarctic Marion Island.\n",
      "37339590 R. .A...  -1 i 2023     0  0   7 au[02](Michael N Weiss) Killer whales.\n",
      "25883362 .. .A...  88 3 2015    76  0  85 au[02](Neil P Kelley) Vertebrate evolution. Evolutionary innovation and ecology in marine tetrapods from the Triassic to the Anthropocene.\n",
      "35233242 RP .A...  47 2 2022     3  0  78 au[04](Astrid V Stronen) The relevance of genetic structure in ecotype designation and conservation management.\n",
      "35472428 .P .A...  26 2 2022     1  0   7 au[03](Annalisa Berta) Evolution: Killer whale bites and appetites.\n",
      "34750442 R. HA...  51 2 2021     6  0  15 au[08](Qiling Liu) An injured pachypleurosaur (Diapsida: Sauropterygia) from the Middle Triassic Luoping Biota indicating predation pressure in the Mesozoic.\n",
      "31631360 .. HA...  61 2 2019    16  0  55 au[01](Jenny A Allen) Community through Culture: From Insects to Whales: How Social Learning and Culture Manifest across Diverse Animal Communities.\n",
      "30992478 R. .A...  38 2 2019     8  0  32 au[09](Salvador J Jorgensen) Killer whales redistribute white shark foraging pressure on seals.\n",
      "31120038 R. .A...  17 2 2019     3  0  14 au[08](Maíra Laeta) Osteochondromatosis (multiple cartilaginous exostoses) in an immature killer whale Orcinus orca.\n",
      "31131963 R. .AM..  59 2 2019    22  0  72 au[35](Andrew D Foote) Killer whale genomes reveal a complex history of recurrent admixture and vicariance.\n",
      "29895580 R. .A...  30 2 2018     6  0  23 au[07](Matthew T Bowers) Selective reactions to different killer whale call categories in two delphinid species.\n",
      "29692289 R. .A...  40 2 2018     8  0  14 au[06](A Reckendorf) First record of Halocercus sp. (Pseudaliidae) lungworm infections in two stranded neonatal orcas (Orcinus orca).\n",
      "29876075 R. .A...  48 2 2018    14  0  31 au[02](Mauricio Cantor) Simple foraging rules in competitive environments can generate socially structured populations.\n",
      "30051821 R. .A...  35 2 2018    12  0  13 au[08](Ana S L Rodrigues) Forgotten Mediterranean calving grounds of grey and North Atlantic right whales: evidence from Roman archaeological records.\n",
      "28666015 R. .A...  36 2 2017    11  0   8 au[04](Eve Jourdain) First longitudinal study of seal-feeding killer whales (Orcinus orca) in Norwegian coastal waters.\n",
      "28371192 R. .A...  51 2 2017    19  0 121 au[03](Katherine L Moon) Reconsidering connectivity in the sub-Antarctic.\n",
      "27336480 R. .AM..  34 2 2016    12  0  75 au[05](Stefano Montelli) Back to Water: Signature of Adaptive Evolution in Cetacean Mitochondrial tRNAs.\n",
      "27923044 R. .A...  35 2 2016     9  0   6 au[06](Rebecca Wellard) Killer Whale (Orcinus orca) Predation on Beaked Whales (Mesoplodon spp.) in the Bremer Sub-Basin, Western Australia.\n",
      "27039511 R. .A...  56 2 2016    15  0  25 au[07](Saana Isojunno) Sperm whales reduce foraging effort during exposure to 1-2 kHz sonar and killer whale sounds.\n",
      "25738698 R. .A...  31 2 2015    10  0   5 au[06](Marta Söffker) The impact of predation by marine mammals on patagonian toothfish longline fisheries.\n",
      "26937049 R. .A...  62 2 2015    22  0  35 au[04](Todd R Robeck) Comparisons of life-history parameters between free-ranging and captive killer whale (<i>Orcinus orca</i>) populations for application toward species management.\n",
      "25052415 R. .AM..  59 2 2015    29  0  37 au[09](A E Moura) Phylogenomics of the killer whale indicates ecotype divergence in sympatry.\n",
      "24383934 R. .AM..  60 2 2014    31  0  54 au[17](Marie Louis) Habitat-driven population structure of bottlenose dolphins, Tursiops truncatus, in the North-East Atlantic.\n",
      "25244680 R. .A...  51 2 2014    27  0  59 au[10](Andre E Moura) Population genomics of the killer whale indicates ecotype evolution in sympatry involving both selection and drift.\n",
      "25297864 R. .A...  53 2 2014    25  0  39 au[10](Marie Louis) Ecological opportunities and specializations shaped genetic divergence in a highly mobile marine top predator.\n",
      "33798257 R. .A...  13 1 2021     1  0  22 au[03](Cory J D Matthews) Amino acid δ15N differences consistent with killer whale ecotypes in the Arctic and Northwest Atlantic.\n",
      "31215081 R. .A...   8 1 2019     2  0  17 au[04](Paula Sánchez-Hernández) Social interaction analysis in captive orcas (Orcinus orca).\n",
      "31230140 R. .A...  14 1 2019     3  0  36 au[12](Charlotte Curé) Evidence for discrimination between feeding sounds of familiar fish and unfamiliar mammal-eating killer whale ecotypes by long-finned pilot whales.\n",
      "29272275 R. .A...  11 1 2017     3  0   8 au[04](Elizabeth Seely) Soundwatch: Eighteen years of monitoring whale watch vessel activities in the Salish Sea.\n",
      "27804965 .. .A...   6 1 2016     3  0  15 au[02](A R Hoelzel) Killer whales differentiating in geographic sympatry facilitated by divergent behavioural traditions.\n",
      "27147024 .. .A...   0 0 2016     0  0   2 au[01](P J Nico de Bruyn) Conservation: Debate over whale longevity is futile.\n"
     ]
    }
   ],
   "source": [
    "nih_cites = sorted(all_cites, key=lambda o: [o.get_dict()['nih_group'], o.get_dict()['year']], reverse=True)\n",
    "for nih_entry in nih_cites:\n",
    "    print(nih_entry)"
   ]
  },
  {
   "cell_type": "markdown",
   "metadata": {},
   "source": [
    "## 6) Print the keys which can be used for sorting\n",
    "Pick out one NIH entry (NIHiCiteEntry object) and print available keys"
   ]
  },
  {
   "cell_type": "code",
   "execution_count": 6,
   "metadata": {},
   "outputs": [
    {
     "name": "stdout",
     "output_type": "stream",
     "text": [
      "\n",
      "32 key-value pairs in an NIH entry:\n",
      "\n",
      "                       pmid 37839906\n",
      "                       year 2024\n",
      "                      title Animal cognition and culture mediate predator-prey interactions.\n",
      "                    authors ['Eamonn I F Wooster', 'Kaitlyn M Gaynor', 'Alexandra J R Carthey', 'Arian D Wallach', 'Lauren A Stanton', 'Daniel Ramp', 'Erick J Lundgren']\n",
      "                    journal Trends Ecol Evol\n",
      "        is_research_article False\n",
      "    relative_citation_ratio None\n",
      "             nih_percentile None\n",
      "                      human 0.0\n",
      "                     animal 1.0\n",
      "         molecular_cellular 0.0\n",
      "                        apt 0.05\n",
      "                is_clinical False\n",
      "             citation_count 0\n",
      "         citations_per_year 0.0\n",
      "expected_citations_per_year None\n",
      "        field_citation_rate None\n",
      "                provisional False\n",
      "                    x_coord 0.8660254037844386\n",
      "                    y_coord -0.5\n",
      "              cited_by_clin []\n",
      "                   cited_by []\n",
      "                 references [35167315, 29132776, 16271870, 27597446, 30808816, 30467414, 30190405, 32869740, 29903973, 27918070, 36690732, 37192928, 34916500, 35977010, 36137301, 35871769, 30857757, 26649391, 25319946, 22882545, 21601306, 17714665, 16806574, 23620054, 33795431, 37436999, 25324387, 26906881, 21715408, 34820604, 14526101, 19724642, 37055915, 11161215, 35931583, 15255108, 36383087, 24408439, 18275983, 30745252, 20545732, 33231749, 37229714, 28884681, 20957967, 35817684, 34437121, 16840701, 26475119, 30902358, 17287955, 25990564, 33994219]\n",
      "                        doi 10.1016/j.tree.2023.09.012\n",
      "              last_modified 02/25/2024, 08:20:46\n",
      "                  nih_group 5\n",
      "                   num_auth 7\n",
      "                   num_clin 0\n",
      "                   num_cite 0\n",
      "              num_cites_all 0\n",
      "                   nih_perc 110\n",
      "                   num_refs 53\n"
     ]
    }
   ],
   "source": [
    "nih_entry = next(iter(nih_cites))\n",
    "print('\\n{N} key-value pairs in an NIH entry:\\n'.format(N=len(nih_entry.dct)))\n",
    "for key, value in nih_entry.get_dict().items():\n",
    "    print(f\"{key:>27} {value}\")"
   ]
  },
  {
   "cell_type": "markdown",
   "metadata": {},
   "source": [
    "## 7) Expand NIH group `3` (well performing papers) to include NIH percentiles 50% or higher"
   ]
  },
  {
   "cell_type": "code",
   "execution_count": 7,
   "metadata": {},
   "outputs": [
    {
     "name": "stdout",
     "output_type": "stream",
     "text": [
      "37591692 R. .A...  -1 i 2024     0  0  46 au[04](R F Bennion) Craniodental ecomorphology of the large Jurassic ichthyosaurian Temnodontosaurus.\n",
      "38179079 R. .A...  -1 i 2024     0  0  12 au[06](Fannie W Shabangu) Killer whale acoustic patterns respond to prey abundance and environmental variability around the Prince Edward Islands, Southern Ocean.\n",
      "37839906 .. .A...  -1 i 2024     0  0  53 au[07](Eamonn I F Wooster) Animal cognition and culture mediate predator-prey interactions.\n",
      "37284666 R. HA...  -1 i 2023     1  0  22 au[04](Rowan K Jordaan) The effect of prey abundance and fisheries on the survival, reproduction, and social structure of killer whales (<i>Orcinus orca</i>) at subantarctic Marion Island.\n",
      "37339590 R. .A...  -1 i 2023     0  0   7 au[02](Michael N Weiss) Killer whales.\n",
      "37055915 R. .A...  -1 i 2023     3  0  25 au[16](Anaïs Remili) Quantitative fatty acid signature analysis reveals a high level of dietary specialization in killer whales across the North Atlantic.\n",
      "36917944 .. HA...  -1 i 2023     0  0  11 au[01](Janet Mann) Animal behavior: Killer whale mamas' boys.\n",
      "35815600 R. .A...  -1 i 2023     3  0  34 au[06](James O Farlow) 'Dragons' on the landscape: Modeling the abundance of large carnivorous dinosaurs of the Upper Jurassic Morrison Formation (USA) and the Upper Cretaceous Dinosaur Park Formation (Canada).\n",
      "34750442 R. HA...  51 3 2021     6  0  15 au[08](Qiling Liu) An injured pachypleurosaur (Diapsida: Sauropterygia) from the Middle Triassic Luoping Biota indicating predation pressure in the Mesozoic.\n",
      "31131963 R. .AM..  59 3 2019    22  0  72 au[35](Andrew D Foote) Killer whale genomes reveal a complex history of recurrent admixture and vicariance.\n",
      "31631360 .. HA...  61 3 2019    16  0  55 au[01](Jenny A Allen) Community through Culture: From Insects to Whales: How Social Learning and Culture Manifest across Diverse Animal Communities.\n",
      "28371192 R. .A...  51 3 2017    19  0 121 au[03](Katherine L Moon) Reconsidering connectivity in the sub-Antarctic.\n",
      "27039511 R. .A...  56 3 2016    15  0  25 au[07](Saana Isojunno) Sperm whales reduce foraging effort during exposure to 1-2 kHz sonar and killer whale sounds.\n",
      "25883362 .. .A...  88 3 2015    76  0  85 au[02](Neil P Kelley) Vertebrate evolution. Evolutionary innovation and ecology in marine tetrapods from the Triassic to the Anthropocene.\n",
      "25052415 R. .AM..  59 3 2015    29  0  37 au[09](A E Moura) Phylogenomics of the killer whale indicates ecotype divergence in sympatry.\n",
      "26937049 R. .A...  62 3 2015    22  0  35 au[04](Todd R Robeck) Comparisons of life-history parameters between free-ranging and captive killer whale (<i>Orcinus orca</i>) populations for application toward species management.\n",
      "24383934 R. .AM..  60 3 2014    31  0  54 au[17](Marie Louis) Habitat-driven population structure of bottlenose dolphins, Tursiops truncatus, in the North-East Atlantic.\n",
      "25297864 R. .A...  53 3 2014    25  0  39 au[10](Marie Louis) Ecological opportunities and specializations shaped genetic divergence in a highly mobile marine top predator.\n",
      "25244680 R. .A...  51 3 2014    27  0  59 au[10](Andre E Moura) Population genomics of the killer whale indicates ecotype evolution in sympatry involving both selection and drift.\n",
      "35233242 RP .A...  47 2 2022     3  0  78 au[04](Astrid V Stronen) The relevance of genetic structure in ecotype designation and conservation management.\n",
      "35472428 .P .A...  26 2 2022     1  0   7 au[03](Annalisa Berta) Evolution: Killer whale bites and appetites.\n",
      "30992478 R. .A...  38 2 2019     8  0  32 au[09](Salvador J Jorgensen) Killer whales redistribute white shark foraging pressure on seals.\n",
      "31120038 R. .A...  17 2 2019     3  0  14 au[08](Maíra Laeta) Osteochondromatosis (multiple cartilaginous exostoses) in an immature killer whale Orcinus orca.\n",
      "30051821 R. .A...  35 2 2018    12  0  13 au[08](Ana S L Rodrigues) Forgotten Mediterranean calving grounds of grey and North Atlantic right whales: evidence from Roman archaeological records.\n",
      "29692289 R. .A...  40 2 2018     8  0  14 au[06](A Reckendorf) First record of Halocercus sp. (Pseudaliidae) lungworm infections in two stranded neonatal orcas (Orcinus orca).\n",
      "29895580 R. .A...  30 2 2018     6  0  23 au[07](Matthew T Bowers) Selective reactions to different killer whale call categories in two delphinid species.\n",
      "29876075 R. .A...  48 2 2018    14  0  31 au[02](Mauricio Cantor) Simple foraging rules in competitive environments can generate socially structured populations.\n",
      "28666015 R. .A...  36 2 2017    11  0   8 au[04](Eve Jourdain) First longitudinal study of seal-feeding killer whales (Orcinus orca) in Norwegian coastal waters.\n",
      "27336480 R. .AM..  34 2 2016    12  0  75 au[05](Stefano Montelli) Back to Water: Signature of Adaptive Evolution in Cetacean Mitochondrial tRNAs.\n",
      "27923044 R. .A...  35 2 2016     9  0   6 au[06](Rebecca Wellard) Killer Whale (Orcinus orca) Predation on Beaked Whales (Mesoplodon spp.) in the Bremer Sub-Basin, Western Australia.\n",
      "25738698 R. .A...  31 2 2015    10  0   5 au[06](Marta Söffker) The impact of predation by marine mammals on patagonian toothfish longline fisheries.\n",
      "33798257 R. .A...  13 1 2021     1  0  22 au[03](Cory J D Matthews) Amino acid δ15N differences consistent with killer whale ecotypes in the Arctic and Northwest Atlantic.\n",
      "31230140 R. .A...  14 1 2019     3  0  36 au[12](Charlotte Curé) Evidence for discrimination between feeding sounds of familiar fish and unfamiliar mammal-eating killer whale ecotypes by long-finned pilot whales.\n",
      "31215081 R. .A...   8 1 2019     2  0  17 au[04](Paula Sánchez-Hernández) Social interaction analysis in captive orcas (Orcinus orca).\n",
      "29272275 R. .A...  11 1 2017     3  0   8 au[04](Elizabeth Seely) Soundwatch: Eighteen years of monitoring whale watch vessel activities in the Salish Sea.\n",
      "27804965 .. .A...   6 1 2016     3  0  15 au[02](A R Hoelzel) Killer whales differentiating in geographic sympatry facilitated by divergent behavioural traditions.\n",
      "27147024 .. .A...   0 0 2016     0  0   2 au[01](P J Nico de Bruyn) Conservation: Debate over whale longevity is futile.\n"
     ]
    }
   ],
   "source": [
    "from pmidcite.icite.nih_grouper import NihGrouper\n",
    "\n",
    "grpr = NihGrouper(group3_min=50.0)\n",
    "\n",
    "dnldr = get_downloader(details_cites_refs=\"citations\", nih_grouper=grpr)\n",
    "paper = dnldr.get_paper(22882545)\n",
    "\n",
    "for nihentry in sorted(paper.cited_by, key=lambda o: [o.get_dict()['nih_group'], o.get_dict()['year']], reverse=True):\n",
    "    print(nihentry)"
   ]
  },
  {
   "cell_type": "markdown",
   "metadata": {},
   "source": [
    "Copyright (C) 2019-present, DV Klopfenstein, PhD. All rights reserved."
   ]
  }
 ],
 "metadata": {
  "kernelspec": {
   "display_name": "Python 3 (ipykernel)",
   "language": "python",
   "name": "python3"
  },
  "language_info": {
   "codemirror_mode": {
    "name": "ipython",
    "version": 3
   },
   "file_extension": ".py",
   "mimetype": "text/x-python",
   "name": "python",
   "nbconvert_exporter": "python",
   "pygments_lexer": "ipython3",
   "version": "3.10.12"
  }
 },
 "nbformat": 4,
 "nbformat_minor": 4
}
