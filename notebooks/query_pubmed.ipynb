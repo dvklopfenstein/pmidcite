{
 "cells": [
  {
   "cell_type": "markdown",
   "metadata": {},
   "source": [
    "# Query PubMed\n",
    "You will need to either set your email, apikey, and tool in the `.pmidciterc` file to query and download publication data from PubMed.\n",
    "\n",
    "See how to get an NCBI API key here:\n",
    "https://ncbiinsights.ncbi.nlm.nih.gov/2017/11/02/new-api-keys-for-the-e-utilities"
   ]
  },
  {
   "cell_type": "code",
   "execution_count": 1,
   "metadata": {
    "scrolled": true
   },
   "outputs": [
    {
     "name": "stdout",
     "output_type": "stream",
     "text": [
      "  READ: .pmidciterc\n"
     ]
    }
   ],
   "source": [
    "from pmidcite.cfg import Cfg\n",
    "from pmidcite.eutils.cmds.pubmed import PubMed\n",
    "\n",
    "cfg = Cfg(prt_fullname=False)"
   ]
  },
  {
   "cell_type": "markdown",
   "metadata": {},
   "source": [
    "## Instantiate a PubMed object"
   ]
  },
  {
   "cell_type": "code",
   "execution_count": 2,
   "metadata": {},
   "outputs": [],
   "source": [
    "pmobj = PubMed(\n",
    "    email=cfg.get_email(),\n",
    "    apikey=cfg.get_apikey(),\n",
    "    tool=cfg.get_tool())"
   ]
  },
  {
   "cell_type": "markdown",
   "metadata": {},
   "source": [
    "## Query PubMed, download PMIDs"
   ]
  },
  {
   "cell_type": "code",
   "execution_count": 3,
   "metadata": {},
   "outputs": [
    {
     "name": "stdout",
     "output_type": "stream",
     "text": [
      "     6 IDs FOR pubmed QUERY(Orcinus Orca Type D)\n"
     ]
    }
   ],
   "source": [
    "pubmed_query = 'Orcinus Orca Type D'\n",
    "pmids = pmobj.dnld_query_pmids(pubmed_query)"
   ]
  },
  {
   "cell_type": "markdown",
   "metadata": {},
   "source": [
    "## Print NIH citation data for the papers"
   ]
  },
  {
   "cell_type": "code",
   "execution_count": 4,
   "metadata": {},
   "outputs": [
    {
     "name": "stdout",
     "output_type": "stream",
     "text": [
      "36971118 R. .A...  -1 i 2023     1  0   0 au[15](Andrew D Foote) 'Type D' killer whale genomes reveal long-term small population size and low genetic diversity.\n",
      "35104426 RP .A...  49 2 2022     3  0   8 au[06](Morgane Amelot) Increasing numbers of killer whale individuals use fisheries as feeding opportunities within subantarctic populations.\n",
      "31461780 R. .A...   8 1 2020     1  0   0 au[06](Robert L Pitman) Enigmatic megafauna: type D killer whale in the Southern Ocean.\n",
      "30123694 R. HA...   6 1 2018     2  0   6 au[07](Paul Tixier) Killer whale (<i>Orcinus orca</i>) interactions with blue-eye trevalla (<i>Hyperoglyphe antarctica</i>) longline fisheries.\n",
      "22882545 .. .A...  64 2 2013    37  0  24 au[03](P J N de Bruyn) Killer whale ecotypes: is there a global model?\n",
      "20050301 R. .A...  71 2 2009    58  0  25 au[05](Andrew D Foote) Ecological, morphological and genetic divergence of sympatric North Atlantic killer whale populations.\n"
     ]
    }
   ],
   "source": [
    "from pmidcite.icite.downloader import get_downloader\n",
    "\n",
    "dnldr = get_downloader()\n",
    "pmid2paper = dnldr.get_pmid2paper(pmids)\n",
    "for paper in pmid2paper.values():\n",
    "    print(paper)"
   ]
  },
  {
   "cell_type": "markdown",
   "metadata": {},
   "source": [
    "## Download the PubMed abstract\n",
    "Download the PubMed abstract for the newest paper"
   ]
  },
  {
   "cell_type": "code",
   "execution_count": 5,
   "metadata": {},
   "outputs": [
    {
     "name": "stdout",
     "output_type": "stream",
     "text": [
      "20050301 R. .A...  71 2 2009    58  0  25 au[05](Andrew D Foote) Ecological, morphological and genetic divergence of sympatric North Atlantic killer whale populations.\n"
     ]
    }
   ],
   "source": [
    "paper_chosen = sorted(pmid2paper.values(), key=lambda o: o.icite.get_dict()['year'])[0]\n",
    "print(paper_chosen)"
   ]
  },
  {
   "cell_type": "code",
   "execution_count": 6,
   "metadata": {},
   "outputs": [
    {
     "name": "stdout",
     "output_type": "stream",
     "text": [
      "**NOTE: EXISTS: ./pubmed_20050301.txt\n",
      "epost webenv: MCID_65e33565ec9e80414053e705\n",
      "epost querykey(     1) ids[1]=20050301\n",
      "**NOTE: NOT DOWNLOADING: 20050301\n"
     ]
    }
   ],
   "source": [
    "force_download = False\n",
    "pmid2nt = pmobj.dnld_wr1_per_pmid([paper_chosen.pmid], force_download, dir_pubmed_txt=\".\")"
   ]
  },
  {
   "cell_type": "code",
   "execution_count": 7,
   "metadata": {},
   "outputs": [
    {
     "name": "stdout",
     "output_type": "stream",
     "text": [
      "20050301 Nt(PMID=20050301, file_pubmed='./pubmed_20050301.txt', file_exists=True, download=False)\n"
     ]
    }
   ],
   "source": [
    "for pmid, data in pmid2nt.items():\n",
    "    print(pmid, data)"
   ]
  },
  {
   "cell_type": "code",
   "execution_count": 8,
   "metadata": {},
   "outputs": [
    {
     "name": "stdout",
     "output_type": "stream",
     "text": [
      "\n",
      "PMID- 20050301\n",
      "OWN - NLM\n",
      "STAT- MEDLINE\n",
      "DCOM- 20100201\n",
      "LR  - 20190917\n",
      "IS  - 1365-294X (Electronic)\n",
      "IS  - 0962-1083 (Linking)\n",
      "VI  - 18\n",
      "IP  - 24\n",
      "DP  - 2009 Dec\n",
      "TI  - Ecological, morphological and genetic divergence of sympatric North Atlantic \n",
      "      killer whale populations.\n",
      "PG  - 5207-17\n",
      "AB  - Ecological divergence has a central role in speciation and is therefore an \n",
      "      important source of biodiversity. Studying the micro-evolutionary processes of \n",
      "      ecological diversification at its early stages provides an opportunity for \n",
      "      investigating the causative mechanisms and ecological conditions promoting \n",
      "      divergence. Here we use morphological traits, nitrogen stable isotope ratios and \n",
      "      tooth wear to characterize two disparate types of North Atlantic killer whale. We \n",
      "      find a highly specialist type, which reaches up to 8.5 m in length and a \n",
      "      generalist type which reaches up to 6.6 m in length. There is a single fixed \n",
      "      genetic difference in the mtDNA control region between these types, indicating \n",
      "      integrity of groupings and a shallow divergence. Phylogenetic analysis indicates \n",
      "      this divergence is independent of similar ecological divergences in the Pacific \n",
      "      and Antarctic. Niche-width in the generalist type is more strongly influenced by \n",
      "      between-individual variation rather than within-individual variation in the \n",
      "      composition of the diet. This first step to divergent specialization on different \n",
      "      ecological resources provides a rare example of the ecological conditions at the \n",
      "      early stages of adaptive radiation.\n",
      "FAU - Foote, Andrew D\n",
      "AU  - Foote AD\n",
      "AD  - Institute of Biological and Environmental Sciences, University of Aberdeen, \n",
      "      Cromarty, UK. a.d.foote@abdn.ac.uk\n",
      "FAU - Newton, Jason\n",
      "AU  - Newton J\n",
      "FAU - Piertney, Stuart B\n",
      "AU  - Piertney SB\n",
      "FAU - Willerslev, Eske\n",
      "AU  - Willerslev E\n",
      "FAU - Gilbert, M Thomas P\n",
      "AU  - Gilbert MT\n",
      "LA  - eng\n",
      "PT  - Journal Article\n",
      "PT  - Research Support, Non-U.S. Gov't\n",
      "PL  - England\n",
      "TA  - Mol Ecol\n",
      "JT  - Molecular ecology\n",
      "JID - 9214478\n",
      "RN  - 0 (DNA, Mitochondrial)\n",
      "RN  - 0 (Nitrogen Isotopes)\n",
      "SB  - IM\n",
      "MH  - Animals\n",
      "MH  - Bayes Theorem\n",
      "MH  - DNA, Mitochondrial/genetics\n",
      "MH  - Ecosystem\n",
      "MH  - *Evolution, Molecular\n",
      "MH  - *Genetics, Population\n",
      "MH  - Likelihood Functions\n",
      "MH  - Nitrogen Isotopes/analysis\n",
      "MH  - Phylogeny\n",
      "MH  - Sequence Analysis, DNA\n",
      "MH  - Tooth Wear\n",
      "MH  - Whale, Killer/anatomy & histology/*genetics/metabolism\n",
      "EDAT- 2010/01/06 06:00\n",
      "MHDA- 2010/02/02 06:00\n",
      "CRDT- 2010/01/06 06:00\n",
      "PHST- 2010/01/06 06:00 [entrez]\n",
      "PHST- 2010/01/06 06:00 [pubmed]\n",
      "PHST- 2010/02/02 06:00 [medline]\n",
      "AID - 10.1111/j.1365-294x.2009.04407.x [doi]\n",
      "PST - ppublish\n",
      "SO  - Mol Ecol. 2009 Dec;18(24):5207-17. doi: 10.1111/j.1365-294x.2009.04407.x.\n"
     ]
    }
   ],
   "source": [
    "file_pubmed = f'./pubmed_{paper_chosen.pmid}.txt'\n",
    "!cat $file_pubmed"
   ]
  },
  {
   "cell_type": "markdown",
   "metadata": {},
   "source": [
    "Copyright (C) 2019-present, DV Klopfenstein, PhD. All rights reserved."
   ]
  }
 ],
 "metadata": {
  "kernelspec": {
   "display_name": "Python 3 (ipykernel)",
   "language": "python",
   "name": "python3"
  },
  "language_info": {
   "codemirror_mode": {
    "name": "ipython",
    "version": 3
   },
   "file_extension": ".py",
   "mimetype": "text/x-python",
   "name": "python",
   "nbconvert_exporter": "python",
   "pygments_lexer": "ipython3",
   "version": "3.10.12"
  }
 },
 "nbformat": 4,
 "nbformat_minor": 4
}
