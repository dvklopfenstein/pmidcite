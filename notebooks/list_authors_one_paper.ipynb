{
 "cells": [
  {
   "cell_type": "markdown",
   "id": "42dcc35a-c051-4d67-b0e5-ed14d1e65f20",
   "metadata": {},
   "source": [
    "# List the authors of a paper\n",
    "### Import the downloader to download NIH citations"
   ]
  },
  {
   "cell_type": "code",
   "execution_count": 1,
   "id": "7573c068-d6a2-4d77-86f8-6d73e9922a80",
   "metadata": {},
   "outputs": [],
   "source": [
    "from pmidcite.icite.downloader import get_downloader\n",
    "\n",
    "dnldr = get_downloader()"
   ]
  },
  {
   "cell_type": "markdown",
   "id": "19012f9f-3a54-41fe-b9c9-7b09cef33e94",
   "metadata": {},
   "source": [
    "### Download citation data from the NIH for a paper with PMID=30022098"
   ]
  },
  {
   "cell_type": "code",
   "execution_count": 2,
   "id": "b8ba2749-1699-49f0-a1bd-1f704d9319d8",
   "metadata": {},
   "outputs": [],
   "source": [
    "pmid = 30022098\n",
    "icitepaper = dnldr.get_icite(pmid)"
   ]
  },
  {
   "cell_type": "markdown",
   "id": "2504ab91-f303-4b30-b992-5b9e672d8544",
   "metadata": {},
   "source": [
    "### Get the authors for a paper"
   ]
  },
  {
   "cell_type": "code",
   "execution_count": 3,
   "id": "a014e67e-5bcd-4149-912e-314a74e354db",
   "metadata": {},
   "outputs": [
    {
     "name": "stdout",
     "output_type": "stream",
     "text": [
      "30022098 D V Klopfenstein\n",
      "30022098 Liangsheng Zhang\n",
      "30022098 Brent S Pedersen\n",
      "30022098 Fidel Ramírez\n",
      "30022098 Alex Warwick Vesztrocy\n",
      "30022098 Aurélien Naldi\n",
      "30022098 Christopher J Mungall\n",
      "30022098 Jeffrey M Yunes\n",
      "30022098 Olga Botvinnik\n",
      "30022098 Mark Weigel\n",
      "30022098 Will Dampier\n",
      "30022098 Christophe Dessimoz\n",
      "30022098 Patrick Flick\n",
      "30022098 Haibao Tang\n"
     ]
    }
   ],
   "source": [
    "for author in icitepaper.get_authors():\n",
    "    print(f'{pmid:8} {author}')"
   ]
  },
  {
   "cell_type": "markdown",
   "id": "5bd85bc8-ce0f-4da7-8437-cd3049f9837e",
   "metadata": {},
   "source": [
    "Copyright (C) 2019-present, DV Klopfenstein, PhD. All rights reserved."
   ]
  }
 ],
 "metadata": {
  "kernelspec": {
   "display_name": "Python 3 (ipykernel)",
   "language": "python",
   "name": "python3"
  },
  "language_info": {
   "codemirror_mode": {
    "name": "ipython",
    "version": 3
   },
   "file_extension": ".py",
   "mimetype": "text/x-python",
   "name": "python",
   "nbconvert_exporter": "python",
   "pygments_lexer": "ipython3",
   "version": "3.10.12"
  }
 },
 "nbformat": 4,
 "nbformat_minor": 5
}
