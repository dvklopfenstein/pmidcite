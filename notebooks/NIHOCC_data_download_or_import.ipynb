{
 "cells": [
  {
   "cell_type": "markdown",
   "metadata": {},
   "source": [
    "# Download citation data from NIH-OCC\n",
    "NIH-OCC: Nation Institute of Health's Open Citation Collection https://icite.od.nih.gov/\n",
    "\n",
    "## 1) Load Python interface to NIH-OCC's API\n",
    "One NIH entry per PubMed ID (PMID) will be downloaded to the directory, `./icite`.\n",
    "\n",
    "It is not advisable to add these files to a repo or revision manage them because the number of files will multitudinous.\n",
    "So ensure `./icite` is listed in the `.gitignore` file.\n",
    "\n",
    "NOTE: The Python API always downloads data from the NIH-OCC, even if it has been requested before. See the notebook, *Download or import citation data from the NIH-OCC*."
   ]
  },
  {
   "cell_type": "code",
   "execution_count": 1,
   "metadata": {},
   "outputs": [],
   "source": [
    "from os import mkdir\n",
    "from os.path import exists\n",
    "\n",
    "if not exists('./icite'):\n",
    "    mkdir('./icite')"
   ]
  },
  {
   "cell_type": "markdown",
   "metadata": {},
   "source": [
    "## 2) Load the NIH Downloader\n",
    "The NIH downloader will use the API to download data from NIH if it is not stored locally or if the user has requested to always download and over-write the older citation file, allowing new citations to be seen.\n",
    "\n",
    "The NIH downloader will read already downloaded NIH-OCC data if it is available. This makes it possible to work offline using previously downloaded citation data."
   ]
  },
  {
   "cell_type": "code",
   "execution_count": 2,
   "metadata": {},
   "outputs": [],
   "source": [
    "from pmidcite.icite.pmid_dnlder import NIHiCiteDownloader\n",
    "\n",
    "force_download = False\n",
    "dnldr = NIHiCiteDownloader('./icite', force_download)"
   ]
  },
  {
   "cell_type": "markdown",
   "metadata": {},
   "source": [
    "## 3) Download NIH-OCC data for one PMID\n",
    "\n",
    "Print the column headers first. Then print the citation data."
   ]
  },
  {
   "cell_type": "code",
   "execution_count": 3,
   "metadata": {},
   "outputs": [
    {
     "name": "stdout",
     "output_type": "stream",
     "text": [
      "PMID     RP HAMCc   % G YEAR   cit cli ref au[00](authors) title\n",
      "22882545 .. .A...  64 2 2013    37  0  24 au[03](P J N de Bruyn) Killer whale ecotypes: is there a global model?\n"
     ]
    }
   ],
   "source": [
    "nih_entry = dnldr.get_icite(22882545)\n",
    "\n",
    "print(nih_entry.hdr); print(nih_entry)"
   ]
  },
  {
   "cell_type": "markdown",
   "metadata": {},
   "source": [
    "## 4) Optionally, print the column header descriptions"
   ]
  },
  {
   "cell_type": "code",
   "execution_count": 4,
   "metadata": {},
   "outputs": [],
   "source": [
    "# nih_entry.prt_keys()"
   ]
  },
  {
   "cell_type": "markdown",
   "metadata": {},
   "source": [
    "## 5) Download NIH-OCC data for multiple PMIDs"
   ]
  },
  {
   "cell_type": "code",
   "execution_count": 5,
   "metadata": {},
   "outputs": [
    {
     "name": "stdout",
     "output_type": "stream",
     "text": [
      "31461780 R. .A...   8 1 2020     1  0   0 au[06](Robert L Pitman) Enigmatic megafauna: type D killer whale in the Southern Ocean.\n",
      "22882545 .. .A...  64 2 2013    37  0  24 au[03](P J N de Bruyn) Killer whale ecotypes: is there a global model?\n",
      "20050301 R. .A...  71 2 2009    58  0  25 au[05](Andrew D Foote) Ecological, morphological and genetic divergence of sympatric North Atlantic killer whale populations.\n"
     ]
    }
   ],
   "source": [
    "pmids = [31461780, 22882545, 20050301]\n",
    "nih_entries = dnldr.get_icites(pmids)\n",
    "\n",
    "for entry in nih_entries:\n",
    "    print(entry)"
   ]
  },
  {
   "cell_type": "markdown",
   "metadata": {},
   "source": [
    "## 4) Print all the NIH-OCC data for one PMID"
   ]
  },
  {
   "cell_type": "code",
   "execution_count": 6,
   "metadata": {},
   "outputs": [
    {
     "name": "stdout",
     "output_type": "stream",
     "text": [
      "                       pmid 22882545\n",
      "                       year 2013\n",
      "                      title Killer whale ecotypes: is there a global model?\n",
      "                    authors ['P J N de Bruyn', 'Cheryl A Tosh', 'Aleks Terauds']\n",
      "                    journal Biol Rev Camb Philos Soc\n",
      "        is_research_article False\n",
      "    relative_citation_ratio 1.46\n",
      "             nih_percentile 64.3\n",
      "                      human 0.0\n",
      "                     animal 1.0\n",
      "         molecular_cellular 0.0\n",
      "                        apt 0.05\n",
      "                is_clinical False\n",
      "             citation_count 37\n",
      "         citations_per_year 3.3636363636363638\n",
      "expected_citations_per_year 2.2999145273529242\n",
      "        field_citation_rate 5.224693905781195\n",
      "                provisional False\n",
      "                    x_coord 0.8660254037844386\n",
      "                    y_coord -0.5\n",
      "              cited_by_clin []\n",
      "                   cited_by [31230140, 25297864, 35233242, 37055915, 31215081, 29895580, 31631360, 26937049, 34750442, 31131963, 37839906, 37284666, 30992478, 25244680, 27336480, 30051821, 27147024, 25052415, 35815600, 29692289, 35472428, 31120038, 24383934, 27039511, 25883362, 29876075, 28666015, 29272275, 25738698, 27923044, 36917944, 33798257, 37339590, 37591692, 27804965, 28371192, 38179079]\n",
      "                 references [19912451, 15791540, 11729317, 20413674, 17400573, 13679915, 19919590, 19755531, 22073275, 21241391, 18524738, 12137576, 20810427, 18345862, 28313404, 9542159, 21949818, 17395829, 21757487, 22031725, 19451116, 20050301, 14526101, 18481536]\n",
      "                        doi 10.1111/j.1469-185X.2012.00239.x\n",
      "              last_modified 02/25/2024, 09:38:37\n",
      "                  nih_group 2\n",
      "                   num_auth 3\n",
      "                   num_clin 0\n",
      "                   num_cite 37\n",
      "              num_cites_all 37\n",
      "                   nih_perc 64\n",
      "                   num_refs 24\n"
     ]
    }
   ],
   "source": [
    "for key, val in nih_entry.get_dict().items():\n",
    "    print(f'{key:>27} {val}')"
   ]
  },
  {
   "cell_type": "markdown",
   "metadata": {},
   "source": [
    "Copyright (C) 2019-present, DV Klopfenstein, PhD. All rights reserved."
   ]
  }
 ],
 "metadata": {
  "kernelspec": {
   "display_name": "Python 3 (ipykernel)",
   "language": "python",
   "name": "python3"
  },
  "language_info": {
   "codemirror_mode": {
    "name": "ipython",
    "version": 3
   },
   "file_extension": ".py",
   "mimetype": "text/x-python",
   "name": "python",
   "nbconvert_exporter": "python",
   "pygments_lexer": "ipython3",
   "version": "3.10.12"
  }
 },
 "nbformat": 4,
 "nbformat_minor": 4
}
